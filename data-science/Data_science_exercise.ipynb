{
 "cells": [
  {
   "cell_type": "markdown",
   "metadata": {},
   "source": [
    "# Tagup Data Science Exercise\n",
    "\n",
    "ExampleCo, Inc is gathering several types of data for its fleet of very expensive machines.  These very expensive machines have three operating modes: *normal*, *faulty* and *failed*.   The machines run all the time, and usually they are in normal mode.  However, in the event that the machine enters faulty mode, the company would like to be aware of this as soon as possible.  This way they can take preventative action to avoid entering failed mode and hopefully save themselves lots of money.\n",
    "\n",
    "They collect four kinds of timeseries data for each machine in their fleet of very expensive machines.  When a machine is operating in *normal* mode the data behaves in a fairly predictable way, but with a moderate amount of noise.  Before a machine fails it will ramp into *faulty* mode, during which the data appears visibly quite different.  Finally, when a machine fails it enters a third, and distinctly different, *failed* mode where all signals are very close to 0.\n",
    "\n",
    "You can download the data here: [exampleco_data](https://drive.google.com/open?id=1b12u6rzkG1AxB6wLGl7IBVoaoSoZLHNR)\n",
    "\n",
    "## Objectives \n",
    "\n",
    "1. **Your primary objective is to develop an approach to detect the beginning of the “faulty” period**. Ideally, this approach would give the ExampleCo engineers as much time as possible to shut down their machines before failure occurs (at which time all measurements drop close to 0). The best solutions are automated in the sense that they would generalize to similar but slightly different data; simpler methods are acceptable but are less likely to receive full credit.\n",
    "2. Demonstrate the efficacy of your approach using visualizations. You must also include a simple explanation of these figures and why your approach is effective, ideally written in language that non-technical executives could understand.\n",
    "3. Finally, and now with a technical audience in mind, discuss the strengths and limitations of your approach and be sure to mention other approaches that you would have liked to try if you had more time.\n",
    "\n",
    "\n",
    "## Notes to help\n",
    "1. A good place to start is by addressing the noise due to communication\n",
    "   errors.\n",
    "2. Feel free to use any libraries you like. Your final results should be\n",
    "   presented in this Python notebook.\n",
    "3. There are no constraints on the techniques you bring to bear, we are curious\n",
    "   to see how you think and what sort of resources you have in your toolbox.\n",
    "4. **Be sure to clearly articulate what you did, why you did it, and how the\n",
    "   results should be interpreted**. In particular, you should be aware of the\n",
    "   limitations of whatever approach or approaches you take.\n",
    "5. Don't feel compelled to use all the data if you're not sure how. Feel free\n",
    "   to focus on data from a single unit if that makes it easier to get started.\n",
    "6. Don't hesitate to reach out to datasciencejobs@tagup.io with any questions!"
   ]
  },
  {
   "cell_type": "markdown",
   "metadata": {},
   "source": [
    "# My solution(s)"
   ]
  },
  {
   "cell_type": "markdown",
   "metadata": {},
   "source": [
    "## Import libraries"
   ]
  },
  {
   "cell_type": "code",
   "execution_count": 72,
   "metadata": {},
   "outputs": [],
   "source": [
    "import pandas as pd\n",
    "import numpy as np\n",
    "import matplotlib.pyplot as plt\n",
    "from scipy import signal\n",
    "from ipywidgets import interact\n",
    "from sklearn.linear_model import LinearRegression\n",
    "from sklearn.ensemble import RandomForestRegressor\n",
    "from sklearn.preprocessing import StandardScaler\n",
    "from sklearn.pipeline import make_pipeline\n",
    "from sklearn.metrics import mean_squared_error\n",
    "import tensorflow as tf\n",
    "\n",
    "%matplotlib inline"
   ]
  },
  {
   "cell_type": "markdown",
   "metadata": {},
   "source": [
    "# Let's start with an EDA of all the data"
   ]
  },
  {
   "cell_type": "code",
   "execution_count": 2,
   "metadata": {},
   "outputs": [
    {
     "data": {
      "application/vnd.jupyter.widget-view+json": {
       "model_id": "bde350ff8643419aaf986ba234b974d4",
       "version_major": 2,
       "version_minor": 0
      },
      "text/plain": [
       "interactive(children=(IntSlider(value=9, description='machine', max=19), IntSlider(value=51, description='perc…"
      ]
     },
     "metadata": {},
     "output_type": "display_data"
    }
   ],
   "source": [
    "@interact\n",
    "def plot_data(machine=(0,19),percent=(2,100)):\n",
    "    \n",
    "    data = pd.read_csv(\"data/machine_\"+str(machine)+\".csv\", index_col=0)\n",
    "\n",
    "    #plot\n",
    "    fig, ax = plt.subplots(2, 2, figsize=(8, 6))\n",
    "\n",
    "    for i in range(4):\n",
    "        \n",
    "        ax[i//2, i%2].plot(range(len(data)), data[str(i)])\n",
    "        ax[i//2, i%2].set_xlim(0, len(data)*percent/100)\n",
    "        ax[i//2, i%2].set_xlabel('Time step')\n",
    "        ax[i//2, i%2].set_title('Sensor '+str(i))\n",
    "        \n",
    "    plt.tight_layout()\n",
    "    plt.show()"
   ]
  },
  {
   "cell_type": "markdown",
   "metadata": {},
   "source": [
    "Scrolling through all the machines, we see that there are massive spikes due to the communications errors that mask out the signal. We need to remove these first. Since all the spikes occur over a value of 100, we can simply remove these values and replace them with a linear interpolation of the neighboring values"
   ]
  },
  {
   "cell_type": "markdown",
   "metadata": {},
   "source": [
    "### Removing spikes"
   ]
  },
  {
   "cell_type": "code",
   "execution_count": 3,
   "metadata": {},
   "outputs": [],
   "source": [
    "def remove_spikes(data):\n",
    "\n",
    "    cutoff = 100\n",
    "    data[abs(data)>cutoff] = np.nan\n",
    "    data = data.interpolate()\n",
    "    data = data.fillna(0)\n",
    "\n",
    "    return data"
   ]
  },
  {
   "cell_type": "code",
   "execution_count": 4,
   "metadata": {},
   "outputs": [
    {
     "data": {
      "application/vnd.jupyter.widget-view+json": {
       "model_id": "8d0881fd01b64e72b82d75317c00dc12",
       "version_major": 2,
       "version_minor": 0
      },
      "text/plain": [
       "interactive(children=(IntSlider(value=9, description='machine', max=19), IntSlider(value=51, description='perc…"
      ]
     },
     "metadata": {},
     "output_type": "display_data"
    }
   ],
   "source": [
    "@interact\n",
    "def plot_data(machine=(0,19),percent=(2,100)):\n",
    "    \n",
    "    data = pd.read_csv(\"data/machine_\"+str(machine)+\".csv\", index_col=0)\n",
    "\n",
    "    #plot\n",
    "    fig, ax = plt.subplots(2, 2, figsize=(8, 6))\n",
    "\n",
    "    for i in range(4):\n",
    "        \n",
    "        ax[i//2, i%2].plot(range(len(data)), remove_spikes(data[str(i)]))\n",
    "        ax[i//2, i%2].set_xlim(0, len(data)*percent/100)\n",
    "        ax[i//2, i%2].set_xlabel('Time step')\n",
    "        ax[i//2, i%2].set_title('Sensor '+str(i))\n",
    "        \n",
    "    plt.tight_layout()\n",
    "    plt.show()"
   ]
  },
  {
   "cell_type": "markdown",
   "metadata": {},
   "source": [
    "If we plot only around 2% of the data, we see that the signals from most sensors and machines are generally oscillatory, but there is also a high frequency component to the signals we might want to smooth over. Let's do this by simply taking a moving average."
   ]
  },
  {
   "cell_type": "markdown",
   "metadata": {},
   "source": [
    "### Smoothing the data"
   ]
  },
  {
   "cell_type": "code",
   "execution_count": 5,
   "metadata": {},
   "outputs": [],
   "source": [
    "def smooth_data(data, window=10):\n",
    "    return data.rolling(window=window, min_periods=1).mean()"
   ]
  },
  {
   "cell_type": "code",
   "execution_count": 6,
   "metadata": {},
   "outputs": [
    {
     "data": {
      "application/vnd.jupyter.widget-view+json": {
       "model_id": "b2e11b7a45cd4b73851f158cbd374550",
       "version_major": 2,
       "version_minor": 0
      },
      "text/plain": [
       "interactive(children=(IntSlider(value=9, description='machine', max=19), IntSlider(value=51, description='perc…"
      ]
     },
     "metadata": {},
     "output_type": "display_data"
    }
   ],
   "source": [
    "@interact\n",
    "def plot_data(machine=(0,19),percent=(2,100)):\n",
    "    \n",
    "    data = pd.read_csv(\"data/machine_\"+str(machine)+\".csv\", index_col=0)\n",
    "    clean_data = smooth_data(remove_spikes(data))\n",
    "\n",
    "    #plot\n",
    "    fig, ax = plt.subplots(2, 2, figsize=(8, 6))\n",
    "\n",
    "    for i in range(4):\n",
    "            \n",
    "        ax[i//2, i%2].plot(range(len(data)), clean_data[str(i)])\n",
    "        ax[i//2, i%2].set_xlim(0, len(data)*percent/100)\n",
    "        ax[i//2, i%2].set_xlabel('Time step')\n",
    "        ax[i//2, i%2].set_title('Sensor '+str(i))\n",
    "        \n",
    "    plt.tight_layout()\n",
    "    plt.show()"
   ]
  },
  {
   "cell_type": "markdown",
   "metadata": {},
   "source": [
    "That's much better. <br />\n",
    "At this stage it's clear that there are 3 modes of operation: *normal, faulty*, and *failed*. <br /> \n",
    "These seem to be characterized as follows:\n",
    "* Normal mode: oscillatory with constant frequency and amplitude\n",
    "* Faulty mode: oscillatory, but with highly varying amplitude/frequency\n",
    "* Failed mode: near zero signal\n",
    "\n",
    "<br />\n",
    "Now, we need to build a model that can tell us the operating mode of the system. "
   ]
  },
  {
   "cell_type": "markdown",
   "metadata": {},
   "source": [
    "# Approach 1: Spectrogram"
   ]
  },
  {
   "cell_type": "markdown",
   "metadata": {},
   "source": [
    "Since we do not have labelled data, we need to use some form of unsupervised learning. <br />\n",
    "One option is to take batches of the data and see how they relate to each other. Given the nature of the data, we care about variations in frequency and aplitude over time. This suggests that a spectrogram would be a good representation."
   ]
  },
  {
   "cell_type": "markdown",
   "metadata": {},
   "source": [
    "### Visualizing the spectrogram"
   ]
  },
  {
   "cell_type": "code",
   "execution_count": 7,
   "metadata": {},
   "outputs": [
    {
     "data": {
      "application/vnd.jupyter.widget-view+json": {
       "model_id": "295262a78b214bf185b7975ee8ae8ec8",
       "version_major": 2,
       "version_minor": 0
      },
      "text/plain": [
       "interactive(children=(IntSlider(value=9, description='machine', max=19), IntSlider(value=51, description='perc…"
      ]
     },
     "metadata": {},
     "output_type": "display_data"
    }
   ],
   "source": [
    "@interact\n",
    "def plot_spectrogram(machine=(0, 19), percent=(2, 100), segment_size=[16, 32, 64, 128, 256]):\n",
    "\n",
    "    data = pd.read_csv(\"data/machine_\"+str(machine)+\".csv\", index_col=0)\n",
    "    clean_data = smooth_data(remove_spikes(data))\n",
    "\n",
    "    fig, ax = plt.subplots(2, 2, figsize=(8, 6))\n",
    "\n",
    "    for i in range(4):\n",
    "        f, t, Sxx = signal.spectrogram(clean_data[str(i)], nperseg=segment_size)\n",
    "\n",
    "        ax[i//2, i%2].pcolormesh(t, f, Sxx, shading='nearest', cmap=\"coolwarm\")\n",
    "        ax[i//2, i%2].set_ylabel('Frequency')\n",
    "        ax[i//2, i%2].set_xlabel('Time')\n",
    "        ax[i//2, i%2].set_xlim(0, t[-1]*percent/100)\n",
    "        ax[i//2, i%2].set_ylim(0, 0.2)\n",
    "        ax[i//2, i%2].set_title('Sensor '+str(i))\n",
    "        \n",
    "    plt.tight_layout()\n",
    "    plt.show()"
   ]
  },
  {
   "cell_type": "markdown",
   "metadata": {},
   "source": [
    "We see that a window of around size 10 gives good results. <br />\n",
    "At this stage it's clear that there are 3 modes of operation: *normal, faulty*, and *failed*. <br /> \n",
    "These seem to be characterized as follows:\n",
    "* Normal mode: oscillatory with constant frequency and amplitude\n",
    "* Faulty mode: oscillatory, but with highly varying amplitude/frequency\n",
    "* Failed mode: near zero signal\n",
    "\n",
    "<br />\n",
    "Now, we need to build a model that can tell us the operating mode of the system. "
   ]
  },
  {
   "cell_type": "markdown",
   "metadata": {},
   "source": [
    "As expected, we see from the spectrogram that the signal is almost \"monochromatic\" in the normal mode of operation. <br />\n",
    "\n",
    "We might expect that the machine starts out in the normal state, so one of the simplest things to do would be to calculate how \"far\" the spectrogram is from the initial stages of operation. We can set a threshold for the error or distance from the inital state, beyond which we say the system is in the faulty/failed state. <br />\n",
    "\n",
    "Before we do that, let's rescale all the amplitudes so that for each sensor, amplitudes are relative to the maximum intial amplitude for that sensor. We want to do this because different sensors have different scales for the signal. We can simply calculate the L2 norm between the rescaled spectrogram at a certain time and the initial state and use this as the metric."
   ]
  },
  {
   "cell_type": "markdown",
   "metadata": {},
   "source": [
    "### Functions to calculate spectrogram and rescale it"
   ]
  },
  {
   "cell_type": "code",
   "execution_count": 8,
   "metadata": {},
   "outputs": [],
   "source": [
    "def spectrogram_data(data:pd.DataFrame, segment_length=64)->pd.DataFrame:\n",
    "    \n",
    "    spectra = []\n",
    "\n",
    "    for sensor in data.columns:\n",
    "        #calculate the spectrogram for each sensor and add it to a dataframe\n",
    "        f, t, Sxx = signal.spectrogram(data[sensor], nperseg=segment_length)\n",
    "\n",
    "        index = pd.Series(t.astype(int), name=\"time\")\n",
    "        columns = pd.MultiIndex.from_tuples([(sensor, x) for x in f], names=[\"sensor\", \"frequency\"])\n",
    "\n",
    "        spectra.append(pd.DataFrame(Sxx.T, index=index, columns=columns))\n",
    "\n",
    "    return pd.concat(spectra, axis=1)\n",
    "\n",
    "\n",
    "def rescale_spec_data(spec_data:pd.DataFrame)->pd.DataFrame:\n",
    "\n",
    "    rescaled_data = spec_data.copy()\n",
    "\n",
    "    for sensor in spec_data.columns.unique(0):\n",
    "        rescaled_data[sensor] /= (rescaled_data[sensor].iloc[0].max())\n",
    "\n",
    "    return rescaled_data"
   ]
  },
  {
   "cell_type": "markdown",
   "metadata": {},
   "source": [
    "### Visualize the error function"
   ]
  },
  {
   "cell_type": "code",
   "execution_count": 9,
   "metadata": {},
   "outputs": [
    {
     "data": {
      "application/vnd.jupyter.widget-view+json": {
       "model_id": "2bd0971666eb463bb927e9b821b18f1c",
       "version_major": 2,
       "version_minor": 0
      },
      "text/plain": [
       "interactive(children=(IntSlider(value=9, description='machine', max=19), IntSlider(value=51, description='perc…"
      ]
     },
     "metadata": {},
     "output_type": "display_data"
    }
   ],
   "source": [
    "@interact\n",
    "def plot_spectrogram_error(machine=(0, 19), percent=(2, 100)):\n",
    "\n",
    "    data = pd.read_csv(\"data/machine_\"+str(machine)+\".csv\", index_col=0)\n",
    "    clean_data = smooth_data(remove_spikes(data))\n",
    "\n",
    "    rescaled_data = rescale_spec_data(spectrogram_data(clean_data))\n",
    "\n",
    "    X = rescaled_data.values\n",
    "    plt.plot(rescaled_data.index, np.linalg.norm(X-X[0], axis=1))\n",
    "    plt.xlim(0, rescaled_data.index[-1]*percent/100)\n",
    "    plt.ylim(0)\n",
    "    plt.xlabel(\"Time\")\n",
    "    plt.ylabel(\"Error relative to initial state\")"
   ]
  },
  {
   "cell_type": "markdown",
   "metadata": {},
   "source": [
    "Looking through these, we see that a threshold of 1 would work well. In most cases, this is also half the error between the inital and failure state. Here is the full pipeline with this approach"
   ]
  },
  {
   "cell_type": "code",
   "execution_count": 10,
   "metadata": {},
   "outputs": [],
   "source": [
    "def detect_faults(data, window=10, segment_length=64, threshold=1):\n",
    "    \n",
    "    # a function that returns the times of the detected faults\n",
    "\n",
    "    clean_data = smooth_data(remove_spikes(data), window=window)\n",
    "    spec_data = spectrogram_data(clean_data, segment_length=segment_length)\n",
    "    rescaled_data = rescale_spec_data(spec_data)\n",
    "    error = np.linalg.norm(rescaled_data-rescaled_data.iloc[0], axis=1)\n",
    "\n",
    "    return list(rescaled_data.index[error > threshold])"
   ]
  },
  {
   "cell_type": "markdown",
   "metadata": {},
   "source": [
    "### Visualize the modes of operation"
   ]
  },
  {
   "cell_type": "code",
   "execution_count": 11,
   "metadata": {},
   "outputs": [
    {
     "data": {
      "application/vnd.jupyter.widget-view+json": {
       "model_id": "f632120ab992468c9e8bf39983c93b4c",
       "version_major": 2,
       "version_minor": 0
      },
      "text/plain": [
       "interactive(children=(IntSlider(value=9, description='machine', max=19), IntSlider(value=51, description='perc…"
      ]
     },
     "metadata": {},
     "output_type": "display_data"
    }
   ],
   "source": [
    "@interact\n",
    "def plot_data_with_faults(machine=(0,19),percent=(2,100)):\n",
    "\n",
    "    data = pd.read_csv(\"data/machine_\"+str(machine)+\".csv\", index_col=0)\n",
    "\n",
    "    faults = detect_faults(data)\n",
    "    if faults:\n",
    "        time = min(faults)\n",
    "    else:\n",
    "        time=len(data)\n",
    "\n",
    "    clean_data = smooth_data(remove_spikes((data)))\n",
    "\n",
    "    #plot\n",
    "    fig, ax = plt.subplots(2, 2, figsize=(8, 6))\n",
    "    \n",
    "\n",
    "    for i in range(4):\n",
    "        ax[i//2, i%2].plot(range(time), clean_data.iloc[:int(time)][str(i)])\n",
    "        ax[i//2, i%2].plot(range(time, len(data)), clean_data.iloc[int(time):][str(i)])\n",
    "\n",
    "        # ax[i//2, i%2].plot(range(len(data)), clean_data[str(i)])\n",
    "        ax[i//2, i%2].set_xlim(0, len(data)*percent/100)\n",
    "        ax[i//2, i%2].set_xlabel('Time step')\n",
    "        ax[i//2, i%2].set_title('Sensor '+str(i))\n",
    "        \n",
    "    plt.tight_layout()\n",
    "    plt.show()"
   ]
  },
  {
   "cell_type": "markdown",
   "metadata": {},
   "source": [
    "This approach seems to work quite well for all the machines we have! <br />\n",
    "The major drawback of this approach is that it is quite specific to the fact that the normal state of these machines has this particular oscillatory behavior. <br />\n",
    "A more generic approach would be as follows: \n",
    "* Assume all machines of a similar kind have a similar normal state and that we have data for these\n",
    "* Assume that for some initial window of time all these machines operate in the normal state\n",
    "* Train a model that predicts either the future states (assuming they are on normal mode) or reconstructs the present state\n",
    "* Measure the error between this predition/reconstruction and the actual values\n",
    "* If this crosses a threshold we have a faulty/broken machine"
   ]
  },
  {
   "cell_type": "markdown",
   "metadata": {},
   "source": [
    "# Approach 2: regression"
   ]
  },
  {
   "cell_type": "markdown",
   "metadata": {},
   "source": [
    "We can create a sliding window of some fixed size and use the sensor data in that window to predict some future readings. If the model is only trained for the normal mode of operation we might expect that the model performs badly in the other modes of operation. "
   ]
  },
  {
   "cell_type": "markdown",
   "metadata": {},
   "source": [
    "## Process data"
   ]
  },
  {
   "cell_type": "markdown",
   "metadata": {},
   "source": [
    "First let's create a dataset that has the features and labels. We simply create a moving window over the signals and use those as the features to predict the next few time steps"
   ]
  },
  {
   "cell_type": "code",
   "execution_count": 12,
   "metadata": {},
   "outputs": [],
   "source": [
    "def process_regression_data(data, start=10, end=110, step=10, pred_size=2):\n",
    "\n",
    "    clean_data = smooth_data(remove_spikes(data), start)\n",
    "\n",
    "    X, y = [], []\n",
    "\n",
    "    for i in range(start, (end//step)*step):\n",
    "        X.append(clean_data.values[i : i+step].flatten())\n",
    "        y.append(clean_data.values[i+step : i+step+pred_size].flatten())\n",
    "    \n",
    "    return np.array(X), np.array(y)"
   ]
  },
  {
   "cell_type": "markdown",
   "metadata": {},
   "source": [
    "Let's stick to machine 0  for now. First we establish a baseline MSE by simply predicting the last value"
   ]
  },
  {
   "cell_type": "code",
   "execution_count": 13,
   "metadata": {},
   "outputs": [
    {
     "name": "stdout",
     "output_type": "stream",
     "text": [
      "Baseline MSE:  8.016965736892532\n"
     ]
    }
   ],
   "source": [
    "start, end, step, pred_size = 10, 110, 10, 2\n",
    "\n",
    "data = pd.read_csv(\"data/machine_0.csv\", index_col=0)\n",
    "X, y = process_regression_data(data, start, end, step, pred_size)\n",
    "\n",
    "y_pred = np.tile(X[:, -4:], pred_size)\n",
    "\n",
    "print(\"Baseline MSE: \", mean_squared_error(y, y_pred)/pred_size)"
   ]
  },
  {
   "cell_type": "markdown",
   "metadata": {},
   "source": [
    "### Linear model"
   ]
  },
  {
   "cell_type": "markdown",
   "metadata": {},
   "source": [
    "Let's see if we can improve the baseline MSE by building a simple linear model"
   ]
  },
  {
   "cell_type": "code",
   "execution_count": 14,
   "metadata": {},
   "outputs": [
    {
     "name": "stdout",
     "output_type": "stream",
     "text": [
      "Linear model MSE:  0.05683105403894098\n"
     ]
    }
   ],
   "source": [
    "pipe = make_pipeline(StandardScaler(), LinearRegression())\n",
    "\n",
    "pipe.fit(X, y)\n",
    "\n",
    "y_pred = pipe.predict(X)\n",
    "\n",
    "print(\"Linear model MSE: \", mean_squared_error(y, y_pred)/pred_size)"
   ]
  },
  {
   "cell_type": "markdown",
   "metadata": {},
   "source": [
    "That's a massive improvement in the MSE. Now let's generate predictions for the rest of the time series to see how we do"
   ]
  },
  {
   "cell_type": "code",
   "execution_count": 15,
   "metadata": {},
   "outputs": [
    {
     "data": {
      "application/vnd.jupyter.widget-view+json": {
       "model_id": "c410d3597281425d8c6b848116fa58b8",
       "version_major": 2,
       "version_minor": 0
      },
      "text/plain": [
       "interactive(children=(IntSlider(value=51, description='percent', min=2), Output()), _dom_classes=('widget-inte…"
      ]
     },
     "metadata": {},
     "output_type": "display_data"
    }
   ],
   "source": [
    "X_test, y_test = process_regression_data(data, start=start, end=2900, step=step, pred_size=pred_size)\n",
    "y_pred = pipe.predict(X_test)\n",
    "\n",
    "@interact\n",
    "def plot_linear_model(percent=(2,100)):\n",
    "\n",
    "    #plot\n",
    "    fig, ax = plt.subplots(2, 2, figsize=(8, 6))\n",
    "\n",
    "    for i in range(4):\n",
    "        ax[i//2, i%2].plot(range(start, start+len(y_pred)), y_test[:, i], ls='', marker='o', ms=2, label=\"actual\")\n",
    "        ax[i//2, i%2].plot(range(start, start+len(y_pred)), y_pred[:, i], ls='--', label=\"predicted\")\n",
    "        ax[i//2, i%2].set_xlim(0, len(y_pred)*percent/100)\n",
    "        ax[i//2, i%2].set_xlabel('Time step')\n",
    "        ax[i//2, i%2].set_title('Sensor '+str(i))\n",
    "    \n",
    "    plt.legend()\n",
    "    plt.tight_layout()\n",
    "    plt.show()"
   ]
  },
  {
   "cell_type": "markdown",
   "metadata": {},
   "source": [
    "As expected, we do quite well in the normal mode, but not so, in the faulty mode. We can once again set a threshold for the error to find where the faulty behavior occurs. Here is the whole thing for every machine."
   ]
  },
  {
   "cell_type": "code",
   "execution_count": 16,
   "metadata": {},
   "outputs": [],
   "source": [
    "def detect_faults_regression(data, model, threshold=20, **kwargs):\n",
    "    #Function to detect faults using regression that \n",
    "\n",
    "    #process regression data (include smoothing)\n",
    "    X_train, y_train = process_regression_data(data, **kwargs)\n",
    "\n",
    "    kwargs['end'] = 2950\n",
    "    X_test, y_test = process_regression_data(data, **kwargs)\n",
    "\n",
    "    model.fit(X_train, y_train)\n",
    "    y_pred = model.predict(X_test)\n",
    "\n",
    "    errors = np.average((y_pred-y_test)**2, axis=1)/(y_test.shape[1]/4)\n",
    "    start = kwargs.get(\"start\", 10)\n",
    "    ind = np.arange(start, kwargs[\"end\"])[errors > threshold]\n",
    "\n",
    "    if len(ind)==0:\n",
    "        time = len(data)\n",
    "    else:\n",
    "        time = start+ind[0]\n",
    "\n",
    "    return time\n",
    "\n",
    "\n",
    "\n",
    "def plot_faults(data, time, percent=50):\n",
    "    #Plot the data where time is the earliest detected fault\n",
    "    fig, ax = plt.subplots(2, 2, figsize=(8, 6))\n",
    "    \n",
    "\n",
    "    for i in range(4):\n",
    "        ax[i//2, i%2].plot(range(time), data.iloc[:int(time)][str(i)])\n",
    "        ax[i//2, i%2].plot(range(time, len(data)), data.iloc[int(time):][str(i)])\n",
    "\n",
    "        ax[i//2, i%2].set_xlim(0, len(data)*percent/100)\n",
    "        ax[i//2, i%2].set_xlabel('Time step')\n",
    "        ax[i//2, i%2].set_title('Sensor '+str(i))\n",
    "        \n",
    "    plt.tight_layout()\n",
    "    plt.show()"
   ]
  },
  {
   "cell_type": "code",
   "execution_count": 17,
   "metadata": {},
   "outputs": [
    {
     "data": {
      "application/vnd.jupyter.widget-view+json": {
       "model_id": "5333e5797aa1402fbe967ca488a30752",
       "version_major": 2,
       "version_minor": 0
      },
      "text/plain": [
       "interactive(children=(IntSlider(value=9, description='machine', max=19), Dropdown(description='model', options…"
      ]
     },
     "metadata": {},
     "output_type": "display_data"
    }
   ],
   "source": [
    "@interact\n",
    "def plot_regression_model_results(machine=(0, 19), model=[LinearRegression()], percent=(2, 100), **kwargs):\n",
    "\n",
    "    data = pd.read_csv(\"data/machine_\"+str(machine)+\".csv\", index_col=0)\n",
    "    clean_data = smooth_data(remove_spikes(data))\n",
    "\n",
    "    time = detect_faults_regression(data, model, **kwargs)\n",
    "\n",
    "    print(model)\n",
    "    plot_faults(clean_data, time, percent)\n",
    "\n",
    "    return"
   ]
  },
  {
   "cell_type": "markdown",
   "metadata": {},
   "source": [
    "Even a linear model is able to do very well in detecting the beginning of the fauly mode! Let's try something a little more complex, just for fun."
   ]
  },
  {
   "cell_type": "markdown",
   "metadata": {},
   "source": [
    "## Random forest"
   ]
  },
  {
   "cell_type": "code",
   "execution_count": 73,
   "metadata": {},
   "outputs": [
    {
     "data": {
      "application/vnd.jupyter.widget-view+json": {
       "model_id": "f4543f9c65a4460ca349665fcbdd7b08",
       "version_major": 2,
       "version_minor": 0
      },
      "text/plain": [
       "interactive(children=(IntSlider(value=9, description='machine', max=19), Dropdown(description='model', options…"
      ]
     },
     "metadata": {},
     "output_type": "display_data"
    }
   ],
   "source": [
    "interact(plot_regression_model_results, machine=(0, 19), model=[RandomForestRegressor(n_estimators=100, max_features=0.5, min_samples_leaf=2)]);"
   ]
  },
  {
   "cell_type": "markdown",
   "metadata": {},
   "source": [
    "This works pretty well too!"
   ]
  },
  {
   "cell_type": "markdown",
   "metadata": {},
   "source": [
    "In summary, we built a regression model trained on the initial stages of the time series (where it is assumed to operate normally) to predict a few values in the future. We saw that the models work well in predicting the values in the normal mode, but have large errors in the faulty mode. This enables us to detect the faulty mode as the region with a large prediction error. This approach is more general than approach 1 since we can train an arbitrary time series with an appropriate model."
   ]
  },
  {
   "cell_type": "markdown",
   "metadata": {},
   "source": [
    "# Approach 3: autoencoder / state reconstruction"
   ]
  },
  {
   "cell_type": "markdown",
   "metadata": {},
   "source": [
    "Similar to the last approach, let's train a model that can encode then decode the state in the normal mode. Once again, the assumption is that this model will perform badly in reconstructing the state in the faulty mode. This approach is quite similar to the previous one, so I won't elaborate on the details so much."
   ]
  },
  {
   "cell_type": "markdown",
   "metadata": {},
   "source": [
    "### Data processing"
   ]
  },
  {
   "cell_type": "markdown",
   "metadata": {},
   "source": [
    "We can use the same method as the regression models to get the training data, except here the targets are identical to the features"
   ]
  },
  {
   "cell_type": "code",
   "execution_count": 237,
   "metadata": {},
   "outputs": [],
   "source": [
    "start, end, step, pred_size = 10, 120, 10, 2\n",
    "\n",
    "data = pd.read_csv(\"data/machine_0.csv\", index_col=0)\n",
    "X, _ = process_regression_data(data, start, end, step, pred_size)\n",
    "\n",
    "scaler = StandardScaler()\n",
    "X = scaler.fit_transform(X)"
   ]
  },
  {
   "cell_type": "markdown",
   "metadata": {},
   "source": [
    "## Model building and training"
   ]
  },
  {
   "cell_type": "markdown",
   "metadata": {},
   "source": [
    "Our model can simply consist of a dense layer that takes the inputs and encodes in a smaller dimension (in this case we go from 40->10) and an output dense layer that reconstructs the inputs."
   ]
  },
  {
   "cell_type": "code",
   "execution_count": 238,
   "metadata": {},
   "outputs": [],
   "source": [
    "encoder = tf.keras.Sequential([\n",
    "                                tf.keras.Input(shape=(X.shape[1],)),\n",
    "                                tf.keras.layers.Dense(units=10, activation='selu'),\n",
    "                                tf.keras.layers.Dropout(0.2)\n",
    "                                ])\n",
    "\n",
    "decoder = tf.keras.Sequential([\n",
    "                                tf.keras.layers.Dense(units=X.shape[1], input_shape=(encoder.output_shape[1], ), activation='linear')\n",
    "                                ])\n",
    "\n",
    "\n",
    "model = tf.keras.Sequential([encoder, decoder])\n",
    "\n",
    "model.compile(optimizer=tf.keras.optimizers.Adam(learning_rate=1e-3), loss=\"mse\")"
   ]
  },
  {
   "cell_type": "code",
   "execution_count": 239,
   "metadata": {},
   "outputs": [
    {
     "data": {
      "text/plain": [
       "Text(0, 0.5, 'Loss')"
      ]
     },
     "execution_count": 239,
     "metadata": {},
     "output_type": "execute_result"
    },
    {
     "data": {
      "image/png": "[encoded data removed]",
      "text/plain": [
       "<Figure size 640x480 with 1 Axes>"
      ]
     },
     "metadata": {},
     "output_type": "display_data"
    }
   ],
   "source": [
    "history = model.fit(X, X, \n",
    "                    epochs=1000, validation_split=0.2, \n",
    "                    callbacks=tf.keras.callbacks.EarlyStopping(monitor='val_loss', patience=20, restore_best_weights=True),\n",
    "                    verbose=0\n",
    "                    )\n",
    "\n",
    "\n",
    "plt.plot(history.history['loss'], label='train loss')\n",
    "plt.plot(history.history['val_loss'], label='val loss')\n",
    "plt.legend()\n",
    "plt.xlabel('Epoch')\n",
    "plt.ylabel('Loss')"
   ]
  },
  {
   "cell_type": "markdown",
   "metadata": {},
   "source": [
    "## Visualize the results"
   ]
  },
  {
   "cell_type": "code",
   "execution_count": 248,
   "metadata": {},
   "outputs": [
    {
     "data": {
      "application/vnd.jupyter.widget-view+json": {
       "model_id": "1d51dce684fd43cabf7c3e5224a0248d",
       "version_major": 2,
       "version_minor": 0
      },
      "text/plain": [
       "interactive(children=(IntSlider(value=51, description='percent', min=2), Output()), _dom_classes=('widget-inte…"
      ]
     },
     "metadata": {},
     "output_type": "display_data"
    }
   ],
   "source": [
    "start, end = 10, 2950\n",
    "\n",
    "X_test, _ = process_regression_data(data, start, end)\n",
    "X_test = scaler.transform(X_test)\n",
    "\n",
    "X_pred = model.predict(X_test, verbose=0)\n",
    "\n",
    "@interact\n",
    "def plot_reconstruction(percent=(2,100)):\n",
    "\n",
    "    #plot\n",
    "    fig, ax = plt.subplots(2, 2, figsize=(8, 6))\n",
    "\n",
    "    y_test = X_test[::step].reshape(-1, 4)\n",
    "    y_pred = X_pred[::step].reshape(-1, 4)\n",
    "\n",
    "    for i in range(4):\n",
    "        ax[i//2, i%2].plot(range(start, start+len(y_pred)), y_test[:, i], ls='', marker='o', ms=2, label=\"actual\")\n",
    "        ax[i//2, i%2].plot(range(start, start+len(y_pred)), y_pred[:, i], ls='--', label=\"reconstructed\")\n",
    "        ax[i//2, i%2].set_xlim(0, len(y_pred)*percent/100)\n",
    "        ax[i//2, i%2].set_xlabel('Time step')\n",
    "        ax[i//2, i%2].set_title('Sensor '+str(i))\n",
    "    \n",
    "    plt.legend()\n",
    "    plt.tight_layout()\n",
    "    plt.show()"
   ]
  },
  {
   "cell_type": "markdown",
   "metadata": {},
   "source": [
    "The results are quite similar to the regression models, so we can use a similar threshold for the reconstruction error to detect the faulty mode"
   ]
  },
  {
   "cell_type": "code",
   "execution_count": 251,
   "metadata": {},
   "outputs": [
    {
     "data": {
      "text/plain": [
       "(0.0, 11.861891138687268)"
      ]
     },
     "execution_count": 251,
     "metadata": {},
     "output_type": "execute_result"
    },
    {
     "data": {
      "image/png": "[encoded data removed]",
      "text/plain": [
       "<Figure size 640x480 with 1 Axes>"
      ]
     },
     "metadata": {},
     "output_type": "display_data"
    }
   ],
   "source": [
    "plt.plot(range(start, start+len(X_test)), np.average((X_test-X_pred)**2, axis=1))\n",
    "plt.xlabel('Time step')\n",
    "plt.ylabel('Reconstruction Error');\n",
    "plt.xlim(0, 500);\n",
    "plt.ylim(0)"
   ]
  },
  {
   "cell_type": "markdown",
   "metadata": {},
   "source": [
    "In this case, a threshold around 1 should do well"
   ]
  },
  {
   "cell_type": "markdown",
   "metadata": {},
   "source": [
    "This approach is also quite general, and we can potentially use more complicated models, if required"
   ]
  }
 ],
 "metadata": {
  "kernelspec": {
   "display_name": "Python 3.6.9 ('dschallenge')",
   "language": "python",
   "name": "python3"
  },
  "language_info": {
   "codemirror_mode": {
    "name": "ipython",
    "version": 3
   },
   "file_extension": ".py",
   "mimetype": "text/x-python",
   "name": "python",
   "nbconvert_exporter": "python",
   "pygments_lexer": "ipython3",
   "version": "3.9.15"
  },
  "vscode": {
   "interpreter": {
    "hash": "efb659ecea875016f1b547ddbdaba28296749251aec33800fbd098c8a825d334"
   }
  }
 },
 "nbformat": 4,
 "nbformat_minor": 2
}
