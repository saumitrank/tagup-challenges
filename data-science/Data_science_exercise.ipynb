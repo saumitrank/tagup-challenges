{
 "cells": [
  {
   "cell_type": "markdown",
   "metadata": {},
   "source": [
    "# Tagup Data Science Exercise\n",
    "\n",
    "ExampleCo, Inc is gathering several types of data for its fleet of very expensive machines.  These very expensive machines have three operating modes: *normal*, *faulty* and *failed*.   The machines run all the time, and usually they are in normal mode.  However, in the event that the machine enters faulty mode, the company would like to be aware of this as soon as possible.  This way they can take preventative action to avoid entering failed mode and hopefully save themselves lots of money.\n",
    "\n",
    "They collect four kinds of timeseries data for each machine in their fleet of very expensive machines.  When a machine is operating in *normal* mode the data behaves in a fairly predictable way, but with a moderate amount of noise.  Before a machine fails it will ramp into *faulty* mode, during which the data appears visibly quite different.  Finally, when a machine fails it enters a third, and distinctly different, *failed* mode where all signals are very close to 0.\n",
    "\n",
    "You can download the data here: [exampleco_data](https://drive.google.com/open?id=1b12u6rzkG1AxB6wLGl7IBVoaoSoZLHNR)\n",
    "\n",
    "## Objectives \n",
    "\n",
    "1. **Your primary objective is to develop an approach to detect the beginning of the “faulty” period**. Ideally, this approach would give the ExampleCo engineers as much time as possible to shut down their machines before failure occurs (at which time all measurements drop close to 0). The best solutions are automated in the sense that they would generalize to similar but slightly different data; simpler methods are acceptable but are less likely to receive full credit.\n",
    "2. Demonstrate the efficacy of your approach using visualizations. You must also include a simple explanation of these figures and why your approach is effective, ideally written in language that non-technical executives could understand.\n",
    "3. Finally, and now with a technical audience in mind, discuss the strengths and limitations of your approach and be sure to mention other approaches that you would have liked to try if you had more time.\n",
    "\n",
    "\n",
    "## Notes to help\n",
    "1. A good place to start is by addressing the noise due to communication\n",
    "   errors.\n",
    "2. Feel free to use any libraries you like. Your final results should be\n",
    "   presented in this Python notebook.\n",
    "3. There are no constraints on the techniques you bring to bear, we are curious\n",
    "   to see how you think and what sort of resources you have in your toolbox.\n",
    "4. **Be sure to clearly articulate what you did, why you did it, and how the\n",
    "   results should be interpreted**. In particular, you should be aware of the\n",
    "   limitations of whatever approach or approaches you take.\n",
    "5. Don't feel compelled to use all the data if you're not sure how. Feel free\n",
    "   to focus on data from a single unit if that makes it easier to get started.\n",
    "6. Don't hesitate to reach out to datasciencejobs@tagup.io with any questions!"
   ]
  },
  {
   "cell_type": "markdown",
   "metadata": {},
   "source": [
    "# My solution"
   ]
  },
  {
   "cell_type": "markdown",
   "metadata": {},
   "source": [
    "## Import libraries"
   ]
  },
  {
   "cell_type": "code",
   "execution_count": 3,
   "metadata": {},
   "outputs": [],
   "source": [
    "import pandas as pd\n",
    "import numpy as np\n",
    "import matplotlib.pyplot as plt\n",
    "import utils\n",
    "from ipywidgets import interact\n",
    "\n",
    "%matplotlib inline"
   ]
  },
  {
   "cell_type": "markdown",
   "metadata": {},
   "source": [
    "### Let's first look at the data for a single machine and do some EDA. The hope is that this will generalize to other machines"
   ]
  },
  {
   "cell_type": "code",
   "execution_count": 2,
   "metadata": {},
   "outputs": [
    {
     "data": {
      "text/html": [
       "<div>\n",
       "<style scoped>\n",
       "    .dataframe tbody tr th:only-of-type {\n",
       "        vertical-align: middle;\n",
       "    }\n",
       "\n",
       "    .dataframe tbody tr th {\n",
       "        vertical-align: top;\n",
       "    }\n",
       "\n",
       "    .dataframe thead th {\n",
       "        text-align: right;\n",
       "    }\n",
       "</style>\n",
       "<table border=\"1\" class=\"dataframe\">\n",
       "  <thead>\n",
       "    <tr style=\"text-align: right;\">\n",
       "      <th></th>\n",
       "      <th>0</th>\n",
       "      <th>1</th>\n",
       "      <th>2</th>\n",
       "      <th>3</th>\n",
       "    </tr>\n",
       "  </thead>\n",
       "  <tbody>\n",
       "    <tr>\n",
       "      <th>2019-01-01 00:00:00.000000000</th>\n",
       "      <td>12.626096</td>\n",
       "      <td>8.803120</td>\n",
       "      <td>-11.809200</td>\n",
       "      <td>10.083961</td>\n",
       "    </tr>\n",
       "    <tr>\n",
       "      <th>2019-01-01 08:00:09.603201067</th>\n",
       "      <td>10.831994</td>\n",
       "      <td>2.816327</td>\n",
       "      <td>11.554778</td>\n",
       "      <td>21.892853</td>\n",
       "    </tr>\n",
       "    <tr>\n",
       "      <th>2019-01-01 16:00:19.206402134</th>\n",
       "      <td>21.083510</td>\n",
       "      <td>-0.672645</td>\n",
       "      <td>-17.839178</td>\n",
       "      <td>-1.349024</td>\n",
       "    </tr>\n",
       "    <tr>\n",
       "      <th>2019-01-02 00:00:28.809603201</th>\n",
       "      <td>32.294495</td>\n",
       "      <td>6.525132</td>\n",
       "      <td>-13.498586</td>\n",
       "      <td>-4.250752</td>\n",
       "    </tr>\n",
       "    <tr>\n",
       "      <th>2019-01-02 08:00:38.412804268</th>\n",
       "      <td>28.057100</td>\n",
       "      <td>3.691359</td>\n",
       "      <td>21.984744</td>\n",
       "      <td>13.670561</td>\n",
       "    </tr>\n",
       "  </tbody>\n",
       "</table>\n",
       "</div>"
      ],
      "text/plain": [
       "                                       0         1          2          3\n",
       "2019-01-01 00:00:00.000000000  12.626096  8.803120 -11.809200  10.083961\n",
       "2019-01-01 08:00:09.603201067  10.831994  2.816327  11.554778  21.892853\n",
       "2019-01-01 16:00:19.206402134  21.083510 -0.672645 -17.839178  -1.349024\n",
       "2019-01-02 00:00:28.809603201  32.294495  6.525132 -13.498586  -4.250752\n",
       "2019-01-02 08:00:38.412804268  28.057100  3.691359  21.984744  13.670561"
      ]
     },
     "execution_count": 2,
     "metadata": {},
     "output_type": "execute_result"
    }
   ],
   "source": [
    "data = pd.read_csv('data/machine_0.csv',index_col=0)\n",
    "\n",
    "data.head()"
   ]
  },
  {
   "cell_type": "markdown",
   "metadata": {},
   "source": [
    "As expected there are 4 time-series data from sensors that appear to be taken at 8 hour intervals (based on the index of the dataframe)"
   ]
  },
  {
   "cell_type": "code",
   "execution_count": 7,
   "metadata": {},
   "outputs": [
    {
     "data": {
      "text/html": [
       "<div>\n",
       "<style scoped>\n",
       "    .dataframe tbody tr th:only-of-type {\n",
       "        vertical-align: middle;\n",
       "    }\n",
       "\n",
       "    .dataframe tbody tr th {\n",
       "        vertical-align: top;\n",
       "    }\n",
       "\n",
       "    .dataframe thead th {\n",
       "        text-align: right;\n",
       "    }\n",
       "</style>\n",
       "<table border=\"1\" class=\"dataframe\">\n",
       "  <thead>\n",
       "    <tr style=\"text-align: right;\">\n",
       "      <th></th>\n",
       "      <th>0</th>\n",
       "      <th>1</th>\n",
       "      <th>2</th>\n",
       "      <th>3</th>\n",
       "    </tr>\n",
       "  </thead>\n",
       "  <tbody>\n",
       "    <tr>\n",
       "      <th>count</th>\n",
       "      <td>3000.000000</td>\n",
       "      <td>3000.000000</td>\n",
       "      <td>3000.000000</td>\n",
       "      <td>3000.000000</td>\n",
       "    </tr>\n",
       "    <tr>\n",
       "      <th>mean</th>\n",
       "      <td>-0.816016</td>\n",
       "      <td>-1.091308</td>\n",
       "      <td>1.267945</td>\n",
       "      <td>0.165844</td>\n",
       "    </tr>\n",
       "    <tr>\n",
       "      <th>std</th>\n",
       "      <td>58.078319</td>\n",
       "      <td>55.965665</td>\n",
       "      <td>56.538700</td>\n",
       "      <td>56.910659</td>\n",
       "    </tr>\n",
       "    <tr>\n",
       "      <th>min</th>\n",
       "      <td>-323.954437</td>\n",
       "      <td>-258.780879</td>\n",
       "      <td>-287.153920</td>\n",
       "      <td>-365.362164</td>\n",
       "    </tr>\n",
       "    <tr>\n",
       "      <th>25%</th>\n",
       "      <td>-0.008684</td>\n",
       "      <td>-0.008851</td>\n",
       "      <td>-0.008274</td>\n",
       "      <td>-0.007883</td>\n",
       "    </tr>\n",
       "    <tr>\n",
       "      <th>50%</th>\n",
       "      <td>-0.000402</td>\n",
       "      <td>-0.000085</td>\n",
       "      <td>0.000669</td>\n",
       "      <td>0.000310</td>\n",
       "    </tr>\n",
       "    <tr>\n",
       "      <th>75%</th>\n",
       "      <td>0.007832</td>\n",
       "      <td>0.008373</td>\n",
       "      <td>0.009056</td>\n",
       "      <td>0.008685</td>\n",
       "    </tr>\n",
       "    <tr>\n",
       "      <th>max</th>\n",
       "      <td>315.738951</td>\n",
       "      <td>264.374782</td>\n",
       "      <td>281.684102</td>\n",
       "      <td>340.513819</td>\n",
       "    </tr>\n",
       "  </tbody>\n",
       "</table>\n",
       "</div>"
      ],
      "text/plain": [
       "                 0            1            2            3\n",
       "count  3000.000000  3000.000000  3000.000000  3000.000000\n",
       "mean     -0.816016    -1.091308     1.267945     0.165844\n",
       "std      58.078319    55.965665    56.538700    56.910659\n",
       "min    -323.954437  -258.780879  -287.153920  -365.362164\n",
       "25%      -0.008684    -0.008851    -0.008274    -0.007883\n",
       "50%      -0.000402    -0.000085     0.000669     0.000310\n",
       "75%       0.007832     0.008373     0.009056     0.008685\n",
       "max     315.738951   264.374782   281.684102   340.513819"
      ]
     },
     "execution_count": 7,
     "metadata": {},
     "output_type": "execute_result"
    }
   ],
   "source": [
    "data.describe()"
   ]
  },
  {
   "cell_type": "markdown",
   "metadata": {},
   "source": [
    "There are 3000 data points for this particular machine and no missing values. Now let's visualize this for each sensor"
   ]
  },
  {
   "cell_type": "code",
   "execution_count": 108,
   "metadata": {},
   "outputs": [
    {
     "data": {
      "application/vnd.jupyter.widget-view+json": {
       "model_id": "f7d89287dce344e7bec13944684875de",
       "version_major": 2,
       "version_minor": 0
      },
      "text/plain": [
       "interactive(children=(IntSlider(value=1, description='n', max=3), Output()), _dom_classes=('widget-interact',)…"
      ]
     },
     "metadata": {},
     "output_type": "display_data"
    }
   ],
   "source": [
    "@interact\n",
    "def plot_sensor_data(n=(0,3)):\n",
    "    sensor = str(n)\n",
    "    plt.plot(range(len(data)), data[sensor])\n",
    "    plt.xlabel('Time step')\n",
    "    plt.ylabel('Sensor value')\n",
    "    plt.title('Sensor '+sensor)\n",
    "    plt.show()"
   ]
  },
  {
   "cell_type": "markdown",
   "metadata": {},
   "source": [
    "As we see, the data is quite spiky for all the sensors. This is probably due to the communications errors mentioned in the beginning. Let's try to deal with this first. We can start with a histogram"
   ]
  },
  {
   "cell_type": "code",
   "execution_count": 4,
   "metadata": {},
   "outputs": [
    {
     "data": {
      "application/vnd.jupyter.widget-view+json": {
       "model_id": "6da4163a88034316be41c58a501859d6",
       "version_major": 2,
       "version_minor": 0
      },
      "text/plain": [
       "interactive(children=(IntSlider(value=1, description='sensor', max=3), Output()), _dom_classes=('widget-intera…"
      ]
     },
     "metadata": {},
     "output_type": "display_data"
    }
   ],
   "source": [
    "@interact\n",
    "def plot_sensor_data_histogram(sensor=(0,3)):\n",
    "    plt.hist(data[str(sensor)], bins=50)\n",
    "    plt.ylabel('Count')\n",
    "    plt.xlabel('Sensor value')\n",
    "    plt.title('Sensor '+str(sensor))\n",
    "    plt.show()"
   ]
  },
  {
   "cell_type": "markdown",
   "metadata": {},
   "source": [
    "It is clear that the spike values are rare and much larger in magnitude than the actual data. The spike values are also quite symmetric. Let's dig deeper with a CDF plot of the absolute sensor value"
   ]
  },
  {
   "cell_type": "code",
   "execution_count": 5,
   "metadata": {},
   "outputs": [
    {
     "data": {
      "application/vnd.jupyter.widget-view+json": {
       "model_id": "7969c2af414b4fa7a7f101694865e2c4",
       "version_major": 2,
       "version_minor": 0
      },
      "text/plain": [
       "interactive(children=(IntSlider(value=1, description='sensor', max=3), Output()), _dom_classes=('widget-intera…"
      ]
     },
     "metadata": {},
     "output_type": "display_data"
    }
   ],
   "source": [
    "@interact\n",
    "def plot_sensor_data_cdf_diff(sensor=(0,3)):\n",
    "\n",
    "    #get histogram, cdf, and \"derivative\"\n",
    "    counts, bins = np.histogram(abs(data[str(sensor)]), bins=50)\n",
    "    cdf = np.cumsum(counts)/len(data)\n",
    "    values = (bins[:-1]+bins[1:])/2\n",
    "    diff = cdf[1:]-cdf[:-1]\n",
    "    ind = np.argmax(diff)\n",
    "\n",
    "    #plot\n",
    "    plt.plot(values, cdf)\n",
    "    plt.plot(values[ind], cdf[ind], \"ro\")\n",
    "    plt.ylabel('CDF')\n",
    "    plt.xlabel('Sensor value magnitude')\n",
    "    plt.title('Sensor '+str(sensor))\n",
    "    plt.show()"
   ]
  },
  {
   "cell_type": "markdown",
   "metadata": {},
   "source": [
    "We see that the outlier values can be identified by finding the maximum of the CDF derivative, as shown by the red dot. Note that they always seem to occur around 95th percentile. We can now get rid of the outlier values and replace them with a linear itnerpolation of the nearby values. "
   ]
  },
  {
   "cell_type": "code",
   "execution_count": 6,
   "metadata": {},
   "outputs": [
    {
     "data": {
      "application/vnd.jupyter.widget-view+json": {
       "model_id": "2c70b42ed6fc408ea9ae29d7c1c2de07",
       "version_major": 2,
       "version_minor": 0
      },
      "text/plain": [
       "interactive(children=(IntSlider(value=1, description='sensor', max=3), IntSlider(value=51, description='percen…"
      ]
     },
     "metadata": {},
     "output_type": "display_data"
    }
   ],
   "source": [
    "@interact\n",
    "def plot_sensor_data_remove_spikes(sensor=(0,3), percent=(2, 100)):\n",
    "\n",
    "    #get histogram, cdf, and \"derivative\"\n",
    "    y = data[str(sensor)].copy()\n",
    "    counts, bins = np.histogram(abs(y), bins=50)\n",
    "    cdf = np.cumsum(counts)/len(data)\n",
    "    diff = cdf[1:]-cdf[:-1]\n",
    "    ind = np.argmax(diff)\n",
    "    cutoff = ((bins[:-1]+bins[1:])/2)[ind-1]\n",
    "\n",
    "    # replace outlier values with nan\n",
    "    cond = (abs(y) > cutoff)\n",
    "    y[cond] = np.nan\n",
    "\n",
    "    #plot\n",
    "    plt.plot(range(len(y)), y.interpolate())\n",
    "    plt.xlim(0, len(y)*percent/100)\n",
    "    plt.ylabel('CDF')\n",
    "    plt.ylabel('Sensor value')\n",
    "    plt.xlabel('Time step')\n",
    "    plt.title('Sensor '+str(sensor))\n",
    "    plt.show()"
   ]
  },
  {
   "cell_type": "markdown",
   "metadata": {},
   "source": [
    "This is much better. Now let's remove the additional high frequency noise by taking a moving average"
   ]
  },
  {
   "cell_type": "code",
   "execution_count": 14,
   "metadata": {},
   "outputs": [
    {
     "data": {
      "application/vnd.jupyter.widget-view+json": {
       "model_id": "e7f458b172c74b1ea04e31f2fb2403a0",
       "version_major": 2,
       "version_minor": 0
      },
      "text/plain": [
       "interactive(children=(IntSlider(value=51, description='percent', min=2), IntSlider(value=10, description='wind…"
      ]
     },
     "metadata": {},
     "output_type": "display_data"
    }
   ],
   "source": [
    "@interact\n",
    "def plot_data_clean(percent=(2, 100), window=(1, 20)):\n",
    "\n",
    "    #process data using the function denoise_data defined in utils.py\n",
    "    clean_data = utils.denoise_data(data, window)\n",
    "\n",
    "    #plot\n",
    "    fig, ax = plt.subplots(2, 2, figsize=(8, 6))\n",
    "\n",
    "    for i in range(4):\n",
    "        ax[i//2, i%2].plot(range(len(data)), clean_data[str(i)])\n",
    "        ax[i//2, i%2].set_xlim(0, len(data)*percent/100)\n",
    "        ax[i//2, i%2].set_xlabel('Time step')\n",
    "        ax[i//2, i%2].set_title('Sensor '+str(i))\n",
    "        \n",
    "    plt.tight_layout()\n",
    "    plt.show()"
   ]
  },
  {
   "cell_type": "markdown",
   "metadata": {},
   "source": [
    "We see that a window of around size 10 gives good results. <br />\n",
    "At this stage it's clear that there are 3 modes of operation: *normal, faulty*, and *failed*. <br /> \n",
    "These seem to be characterized as follows:\n",
    "* Normal mode: oscillatory with constant frequency and amplitude\n",
    "* Faulty mode: oscillatory, but with highly varying amplitude/frequency\n",
    "* Failed mode: near zero signal\n",
    "<br /> <br />\n",
    "\n",
    "Now, we need to build a model that can tell us the operating mode of the system. Since we do not have labelled data, we need to use some form of unsupervised learning first. <br />\n",
    "One option is to take batches of the data and see how they relate to each other, say through some clustering approaches. Given the nature of the data we care about variations in frequency and aplitude over time. This suggests that a spectrogram would be a good representation."
   ]
  },
  {
   "cell_type": "markdown",
   "metadata": {},
   "source": [
    "# Spectrogram"
   ]
  },
  {
   "cell_type": "code",
   "execution_count": 14,
   "metadata": {},
   "outputs": [],
   "source": [
    "from scipy import signal"
   ]
  },
  {
   "cell_type": "code",
   "execution_count": 57,
   "metadata": {},
   "outputs": [],
   "source": [
    "clean_data = utils.denoise_data(data)"
   ]
  },
  {
   "cell_type": "code",
   "execution_count": 89,
   "metadata": {},
   "outputs": [],
   "source": [
    "f, t, Sxx = signal.spectrogram(clean_data['1'], nperseg=64)"
   ]
  },
  {
   "cell_type": "code",
   "execution_count": 90,
   "metadata": {},
   "outputs": [
    {
     "data": {
      "text/plain": [
       "array([  32.,   88.,  144.,  200.,  256.,  312.,  368.,  424.,  480.,\n",
       "        536.,  592.,  648.,  704.,  760.,  816.,  872.,  928.,  984.,\n",
       "       1040., 1096., 1152., 1208., 1264., 1320., 1376., 1432., 1488.,\n",
       "       1544., 1600., 1656., 1712., 1768., 1824., 1880., 1936., 1992.,\n",
       "       2048., 2104., 2160., 2216., 2272., 2328., 2384., 2440., 2496.,\n",
       "       2552., 2608., 2664., 2720., 2776., 2832., 2888., 2944.])"
      ]
     },
     "execution_count": 90,
     "metadata": {},
     "output_type": "execute_result"
    }
   ],
   "source": [
    "t"
   ]
  },
  {
   "cell_type": "code",
   "execution_count": 91,
   "metadata": {},
   "outputs": [
    {
     "data": {
      "text/plain": [
       "<matplotlib.image.AxesImage at 0x212e960d940>"
      ]
     },
     "execution_count": 91,
     "metadata": {},
     "output_type": "execute_result"
    },
    {
     "data": {
      "image/png": "[encoded data removed]",
      "text/plain": [
       "<Figure size 432x288 with 1 Axes>"
      ]
     },
     "metadata": {
      "needs_background": "light"
     },
     "output_type": "display_data"
    }
   ],
   "source": [
    "plt.imshow(Sxx, aspect=\"auto\")"
   ]
  },
  {
   "cell_type": "code",
   "execution_count": 87,
   "metadata": {},
   "outputs": [
    {
     "data": {
      "text/plain": [
       "(33,)"
      ]
     },
     "execution_count": 87,
     "metadata": {},
     "output_type": "execute_result"
    }
   ],
   "source": [
    "f.shape"
   ]
  },
  {
   "cell_type": "code",
   "execution_count": null,
   "metadata": {},
   "outputs": [],
   "source": []
  }
 ],
 "metadata": {
  "kernelspec": {
   "display_name": "Python 3.6.9 ('dschallenge')",
   "language": "python",
   "name": "python3"
  },
  "language_info": {
   "codemirror_mode": {
    "name": "ipython",
    "version": 3
   },
   "file_extension": ".py",
   "mimetype": "text/x-python",
   "name": "python",
   "nbconvert_exporter": "python",
   "pygments_lexer": "ipython3",
   "version": "3.6.9"
  },
  "vscode": {
   "interpreter": {
    "hash": "efb659ecea875016f1b547ddbdaba28296749251aec33800fbd098c8a825d334"
   }
  }
 },
 "nbformat": 4,
 "nbformat_minor": 2
}
